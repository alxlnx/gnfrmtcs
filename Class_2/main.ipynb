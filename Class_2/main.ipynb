{
 "cells": [
  {
   "cell_type": "code",
   "execution_count": 29,
   "id": "ce27a509",
   "metadata": {},
   "outputs": [
    {
     "name": "stdout",
     "output_type": "stream",
     "text": [
      "<Geocentric ICRS position and velocity at date t center=399 target=-106235>\n",
      "Position components (NOAA2): [-2177.42954832   233.96097819 -7522.95677264]\n",
      "Velocity components (NOAA2): [ 5.08298244  4.81598598 -1.31918331]\n",
      "Speed (NOAA2): 7.1253544458565266\n",
      "\n",
      "Height of NOAA: 1476.8372867216376\n",
      "Latitude of NOAA: -73deg 58' 46.2\"\n",
      "Longitude of NOAA: -129deg 39' 55.4\"\n",
      "\n",
      "<Geocentric ICRS position and velocity at date t center=399 target=WGS84 latitude +55.9302 N longitude -37.5182 E elevation 172.0 m>\n",
      "Position components (ЛК): [ -240.52474607 -3572.31969693  5260.89615514]\n",
      "NOAA2 & LK distance: 13478.362974406296\n",
      "\n",
      "RELATIVE POSITIONING (WHICH DIRECTION TO LOOK)\n",
      "Altitude: -69deg 44' 45.0\"\n",
      "Azimuth: 207deg 44' 20.3\"\n",
      "Distance: 13478.4 km\n"
     ]
    }
   ],
   "source": [
    "from skyfield.api import EarthSatellite\n",
    "from skyfield.api import load, wgs84\n",
    "\n",
    "ts = load.timescale()\n",
    "line1 = '1  6235U 72082A   23049.77077049 -.00000017  00000-0  18238-3 0  9998'\n",
    "line2 = '2  6235 101.9830  38.7903 0003935 327.4674 206.3569 12.53157847303058'\n",
    "satellite = EarthSatellite(line1, line2, 'NOAA 2 (ITOS-D)', ts)\n",
    "\n",
    "t = ts.now()\n",
    "geocentric = satellite.at(t) # Position\n",
    "print(geocentric)\n",
    "print('Position components (NOAA2):', geocentric.position.km)       # x, y, z relative to GCRS\n",
    "print('Velocity components (NOAA2):', geocentric.velocity.km_per_s) # Velocity compotents relative to GCRS\n",
    "print('Speed (NOAA2):', geocentric.speed().km_per_s) # Просто корень из суммы квадратов velocity\n",
    "print()\n",
    "lat, lon = wgs84.latlon_of(geocentric)\n",
    "height =   wgs84.height_of(geocentric)\n",
    "print('Height of NOAA:', height.km)\n",
    "print('Latitude of NOAA:', lat)\n",
    "print('Longitude of NOAA:', lon)\n",
    "print()\n",
    "from skyfield.api import N,S,E,W\n",
    "# Широта и долгода Долгопы, взятая с yandex maps\n",
    "LK = wgs84.latlon(55.930171 * N, 37.518219 * W, elevation_m=172) # 173, 180\n",
    "ICRS_LK = LK.at(ts.now())\n",
    "print(ICRS_LK)\n",
    "print('Position components (ЛК):', ICRS_LK.position.km)\n",
    "\n",
    "# .center = origin of vector\n",
    "# .target = destination of vector\n",
    "# 399 at center = Earth\n",
    "dist = (geocentric - ICRS_LK).distance().km\n",
    "print('NOAA2 & LK distance:', dist)\n",
    "print()\n",
    "print('RELATIVE POSITIONING (WHICH DIRECTION TO LOOK)')\n",
    "difference = satellite - LK    # Relative position obtained via vector substraction\n",
    "topocentric = difference.at(t) # Access this position as plain coords.\n",
    "# print(topocentric.distance().km) # Same as dist\n",
    "alt, az, distance = topocentric.altaz() # Altitude & Azimuth\n",
    "if alt.degrees > 0:\n",
    "    print('The ISS is above the horizon')\n",
    "\n",
    "print('Altitude:', alt)\n",
    "print('Azimuth:', az)\n",
    "print('Distance: {:.1f} km'.format(distance.km))"
   ]
  },
  {
   "cell_type": "markdown",
   "id": "6d93df49",
   "metadata": {},
   "source": [
    "# Ресурсы"
   ]
  },
  {
   "cell_type": "markdown",
   "id": "471a856e",
   "metadata": {},
   "source": [
    "## Skyfield library\n"
   ]
  },
  {
   "cell_type": "markdown",
   "id": "9295f3b2",
   "metadata": {},
   "source": [
    "- Работа с TLE: https://rhodesmill.org/skyfield/earth-satellites.html  \n",
    "\n",
    "The simplest form in which you can generate a satellite position is to call its at() method, which will return an (x,y,z) position relative to the Earth’s center in the Geocentric Celestial Reference System. (GCRS coordinates are based on even more precise axes than those of the old J2000 system.)\n",
    "\n",
    "Once you have computed a geocentric satellite position, you can use either of several wgs84 object methods to learn the satellite’s latitude, longitude, and height:  \n",
    "latlon_of()  \n",
    "height_of()  \n",
    "geographic_position_of()  \n",
    "...\n",
    "- Что такое position: https://rhodesmill.org/skyfield/positions.html\n",
    "- Какие системы координаты есть: https://rhodesmill.org/skyfield/coordinates.html"
   ]
  },
  {
   "cell_type": "markdown",
   "id": "1cbea614",
   "metadata": {},
   "source": [
    "## Что-то на русском\n",
    "https://gis-lab.info/qa/python-orbital-tracks.html"
   ]
  },
  {
   "cell_type": "markdown",
   "id": "85fc9eaf",
   "metadata": {},
   "source": [
    "### Reference frames table\n",
    "|  ITRF() | ECEF |   International Terrestrial Reference Frame |   |   |\n",
    "|--------:|-----:|--------------------------------------------:|---|---|\n",
    "|   PEF() | ECEF |          Pseudo-Earth Fixed reference frame |   |   |\n",
    "|  TIRS() | ECEF |   Terrestrial Intermediate Reference System |   |   |\n",
    "|   MOD() |  ECI |                Mean-Of-Date reference frame |   |   |\n",
    "|   TOD() |  ECI |                True-Of-Data reference frame |   |   |\n",
    "|  **GCRF()** |  **ECI** | **Geocentric Celestial Reference Frame (GCRF)** |   |   |\n",
    "| J2000() |  ECI |                       J2000 reference frame |   |   |\n",
    "|  TEME() |  ECI |  True Equator, Mean Equinox reference frame |   |   |\n",
    "|  CIRS() |  ECI |      Celetial Intermediate Reference System |   |   |\n",
    "### Reference frames with pictures\n",
    "https://ai-solutions.com/_help_Files/orbit_reference_frames.htm\n",
    "### Libs\n",
    "polyastro, pyorbital, sgp4, skyfield"
   ]
  },
  {
   "cell_type": "code",
   "execution_count": 12,
   "id": "a4405ffc",
   "metadata": {},
   "outputs": [
    {
     "name": "stdout",
     "output_type": "stream",
     "text": [
      "0 (-4337.845351546508, -4965.135331350194, 4224.124233937398) (-3.783030444555722, -1.656683780754081, -5.817982321623896)\n"
     ]
    }
   ],
   "source": [
    "from sgp4.api import Satrec\n",
    "from sgp4.api import jday\n",
    "\n",
    "# NOAA 2 (ITOS-D)\n",
    "s = '1  6235U 72082A   23049.77077049 -.00000017  00000-0  18238-3 0  9998'\n",
    "t = '2  6235 101.9830  38.7903 0003935 327.4674 206.3569 12.53157847303058'\n",
    "\n",
    "sattelite = Satrec.twoline2rv(s, t)\n",
    "# Julian date converter:    https://www.aavso.org/jd-calculator\n",
    "jd, fr    = 2459996.50000, 0.0  # 2459996.50000 for Feb 21st, 2023\n",
    "# jd, fr    = jday(2023, 2, 20, 17, 0, 0) \n",
    "e, r, v = sattelite.sgp4(jd, fr)\n",
    "print(e, r, v)\n",
    "\n",
    "\n",
    "\n",
    "# SATT. INFO:\n",
    "#from sys import stdout\n",
    "#from sgp4.conveniences import dump_satrec\n",
    "#stdout.writelines(dump_satrec(sattelite))"
   ]
  },
  {
   "cell_type": "markdown",
   "id": "53267e0e",
   "metadata": {},
   "source": [
    "- r measures the satellite position in kilometers from the center of the earth in the idiosyncratic True Equator Mean Equinox coordinate frame used by SGP4.\n",
    "- v velocity is the rate at which the position is changing, expressed in kilometers per second."
   ]
  }
 ],
 "metadata": {
  "kernelspec": {
   "display_name": "Python 3 (ipykernel)",
   "language": "python",
   "name": "python3"
  },
  "language_info": {
   "codemirror_mode": {
    "name": "ipython",
    "version": 3
   },
   "file_extension": ".py",
   "mimetype": "text/x-python",
   "name": "python",
   "nbconvert_exporter": "python",
   "pygments_lexer": "ipython3",
   "version": "3.10.6"
  }
 },
 "nbformat": 4,
 "nbformat_minor": 5
}
