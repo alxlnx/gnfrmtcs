{
 "cells": [
  {
   "cell_type": "code",
   "execution_count": 1,
   "id": "cde8a4d5",
   "metadata": {},
   "outputs": [
    {
     "name": "stdout",
     "output_type": "stream",
     "text": [
      "0 (-4337.845351546508, -4965.135331350194, 4224.124233937398) (-3.783030444555722, -1.656683780754081, -5.817982321623896)\n"
     ]
    }
   ],
   "source": [
    "from sgp4.api import Satrec\n",
    "from sgp4.api import jday\n",
    "\n",
    "# NOAA 2 (ITOS-D)\n",
    "s = '1  6235U 72082A   23049.77077049 -.00000017  00000-0  18238-3 0  9998'\n",
    "t = '2  6235 101.9830  38.7903 0003935 327.4674 206.3569 12.53157847303058'\n",
    "\n",
    "sattelite = Satrec.twoline2rv(s, t)\n",
    "# Julian date converter:    https://www.aavso.org/jd-calculator\n",
    "jd, fr    = 2459996.50000, 0.0  # 2459996.50000 for Feb 21st, 2023\n",
    "# jd, fr    = jday(2023, 2, 20, 17, 0, 0) \n",
    "e, r, v = sattelite.sgp4(jd, fr)\n",
    "print(e, r, v)\n",
    "\n",
    "\n",
    "\n",
    "# SATT. INFO:\n",
    "#from sys import stdout\n",
    "#from sgp4.conveniences import dump_satrec\n",
    "#stdout.writelines(dump_satrec(sattelite))"
   ]
  },
  {
   "cell_type": "markdown",
   "id": "33727016",
   "metadata": {},
   "source": [
    "- r measures the satellite position in kilometers from the center of the earth in the idiosyncratic True Equator Mean Equinox coordinate frame used by SGP4.\n",
    "- v velocity is the rate at which the position is changing, expressed in kilometers per second."
   ]
  },
  {
   "cell_type": "code",
   "execution_count": 11,
   "id": "16de4e8f",
   "metadata": {},
   "outputs": [
    {
     "name": "stdout",
     "output_type": "stream",
     "text": [
      "<Geocentric ICRS position and velocity at date t center=399 target=-106235>\n",
      "[-3177.13895405 -4379.63339939  5657.31068209]\n",
      "[-4.63566    -2.71526913 -4.69513098]\n",
      "Speed: 7.134864049822371\n",
      "Height of NOAA: 1461.2136446878758\n",
      "Latitude of NOAA: 46deg 21' 22.6\"\n",
      "Longitude of NOAA: -59deg 23' 34.7\"\n",
      "<Geocentric ICRS position and velocity at date t center=399 target=WGS84 latitude +55.9302 N longitude -37.5182 E elevation 172.0 m>\n",
      "[ -866.22414842 -3471.93287915  5262.2890773 ]\n",
      "NOAA2 & LK distance: 2514.018604064235\n"
     ]
    }
   ],
   "source": [
    "from skyfield.api import EarthSatellite\n",
    "from skyfield.api import load, wgs84\n",
    "\n",
    "ts = load.timescale()\n",
    "line1 = '1  6235U 72082A   23049.77077049 -.00000017  00000-0  18238-3 0  9998'\n",
    "line2 = '2  6235 101.9830  38.7903 0003935 327.4674 206.3569 12.53157847303058'\n",
    "satellite = EarthSatellite(line1, line2, 'NOAA 2 (ITOS-D)', ts)\n",
    "\n",
    "t = ts.now()\n",
    "geocentric = satellite.at(t) # barycentric?\n",
    "print(geocentric)\n",
    "print(geocentric.position.km)\n",
    "print(geocentric.velocity.km_per_s)\n",
    "print('Speed:', geocentric.speed().km_per_s) # Просто корень из суммы квадратов velocity\n",
    "\n",
    "lat, lon = wgs84.latlon_of(geocentric)\n",
    "height =   wgs84.height_of(geocentric)\n",
    "print('Height of NOAA:', height.km)\n",
    "print('Latitude of NOAA:', lat)\n",
    "print('Longitude of NOAA:', lon)\n",
    "\n",
    "from skyfield.api import N,S,E,W, wgs84\n",
    "LK = wgs84.latlon(55.930171 * N, 37.518219 * W, elevation_m=172) # 173, 180\n",
    "ICRS_LK = LK.at(ts.now())\n",
    "print(ICRS_LK)\n",
    "print(ICRS_LK.position.km)\n",
    "\n",
    "# .center = origin of vector\n",
    "# .target = destination of vector\n",
    "# 399 at center = Earth, \n",
    "dist = (geocentric - ICRS_LK).distance().km\n",
    "print('NOAA2 & LK distance:', dist)"
   ]
  }
 ],
 "metadata": {
  "kernelspec": {
   "display_name": "Python 3 (ipykernel)",
   "language": "python",
   "name": "python3"
  },
  "language_info": {
   "codemirror_mode": {
    "name": "ipython",
    "version": 3
   },
   "file_extension": ".py",
   "mimetype": "text/x-python",
   "name": "python",
   "nbconvert_exporter": "python",
   "pygments_lexer": "ipython3",
   "version": "3.10.6"
  }
 },
 "nbformat": 4,
 "nbformat_minor": 5
}
