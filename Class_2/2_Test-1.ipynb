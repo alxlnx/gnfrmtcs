{
 "cells": [
  {
   "cell_type": "code",
   "execution_count": null,
   "metadata": {},
   "outputs": [],
   "source": [
    "import numpy as np"
   ]
  },
  {
   "cell_type": "markdown",
   "metadata": {},
   "source": [
    "**Если в задании не сказано иного, допусккается использование любых библиотек.**"
   ]
  },
  {
   "cell_type": "markdown",
   "metadata": {
    "id": "QaCxEfPe7-QE"
   },
   "source": [
    "## Задача №1 "
   ]
  },
  {
   "cell_type": "markdown",
   "metadata": {
    "id": "DrCEeN-e8WI4"
   },
   "source": [
    "Посчитайте и верните количество больших и маленьких букв в строке в формате ($N_{больших}$, $N_{маленьких}$)."
   ]
  },
  {
   "cell_type": "code",
   "execution_count": null,
   "metadata": {
    "colab": {
     "base_uri": "https://localhost:8080/"
    },
    "id": "BG0jdAQB7uFn",
    "outputId": "369038a1-927c-438d-9e10-7a3017a62951"
   },
   "outputs": [],
   "source": [
    "def string_test(s):\n",
    "    # Ваш код\n",
    "    pass"
   ]
  },
  {
   "cell_type": "code",
   "execution_count": null,
   "metadata": {},
   "outputs": [],
   "source": [
    "# Проверка\n",
    "assert string_test('The Quick Brown Fox') == (4, 12), \"Что-то не так\"\n",
    "print('Всё ОК!')"
   ]
  },
  {
   "cell_type": "markdown",
   "metadata": {
    "id": "uDveybdT79VM"
   },
   "source": [
    "## Задача №2 "
   ]
  },
  {
   "cell_type": "markdown",
   "metadata": {
    "id": "sFTejdCU3CjJ"
   },
   "source": [
    "Реализуйте функцию стека ([Last in First Out](https://ru.wikipedia.org/wiki/Стек)).\n",
    "\n",
    "На вход подается список $a$ (текущий стек) и список $b$, содержащий элементы, которые нужно добавить в стек. \n",
    "\n",
    "Функция должна возвращать обновленный стек."
   ]
  },
  {
   "cell_type": "code",
   "execution_count": null,
   "metadata": {
    "id": "r29W4q3Q8eyH"
   },
   "outputs": [],
   "source": [
    "def stack(a, b):\n",
    "    # Ваш код\n",
    "    pass"
   ]
  },
  {
   "cell_type": "code",
   "execution_count": null,
   "metadata": {},
   "outputs": [],
   "source": [
    "# Проверка\n",
    "assert stack([1, 2, 3], [4, 5]) == [1, 2, 3, 5, 4], \"Что-то не так\"\n",
    "print('Всё ОК!')"
   ]
  },
  {
   "cell_type": "markdown",
   "metadata": {
    "id": "i2t7S-zI-QbV"
   },
   "source": [
    "## Задача №3"
   ]
  },
  {
   "cell_type": "markdown",
   "metadata": {
    "id": "anWA7pZA2GSk"
   },
   "source": [
    "Реализовать матричное произведение без использования `numpy`.\n",
    "\n",
    "Функция должна возвращать новую матрицу."
   ]
  },
  {
   "cell_type": "code",
   "execution_count": null,
   "metadata": {
    "id": "2mA9i5j--Qky"
   },
   "outputs": [],
   "source": [
    "def matrix_mult(a, b):\n",
    "    assert len(a) == len(b[0]), \"Матрицы имеют недопустимые размеры\"\n",
    "    # Ваш код\n",
    "    pass"
   ]
  },
  {
   "cell_type": "code",
   "execution_count": null,
   "metadata": {},
   "outputs": [],
   "source": [
    "# Проверка\n",
    "a = [\n",
    "    [1, 2, 3],\n",
    "    [4, 5, 6],\n",
    "    [7, 8, 9],\n",
    "]\n",
    "b = [\n",
    "    [5, 1, 2],\n",
    "    [2, 3, 1],\n",
    "    [1, 7, 2]\n",
    "]\n",
    "assert (matrix_mult(a, b) == np.array(a) @ np.array(b)).all(), \"Что-то не так\"\n",
    "print('Всё ОК!')"
   ]
  },
  {
   "cell_type": "markdown",
   "metadata": {
    "id": "DROjxRJu-Q67"
   },
   "source": [
    "# Задача 4"
   ]
  },
  {
   "cell_type": "markdown",
   "metadata": {
    "id": "XNJLyxRP9dBT"
   },
   "source": [
    "Для заданного числа найдите ближайший к нему элемент в векторе."
   ]
  },
  {
   "cell_type": "code",
   "execution_count": null,
   "metadata": {
    "id": "f0oJ7xmC-RC-"
   },
   "outputs": [],
   "source": [
    "def find_closest(lst, num):\n",
    "    # Ваш код\n",
    "    pass"
   ]
  },
  {
   "cell_type": "code",
   "execution_count": null,
   "metadata": {},
   "outputs": [],
   "source": [
    "# Проверка\n",
    "a = -3\n",
    "b = [-5, 7, 2, 4, -6, 0, 1]\n",
    "assert find_closest(b, a) == -5, \"Что-то не так\"\n",
    "print('Всё ОК!')"
   ]
  },
  {
   "cell_type": "markdown",
   "metadata": {
    "id": "dN6Vts8z-ROK"
   },
   "source": [
    "# Задача 5"
   ]
  },
  {
   "cell_type": "markdown",
   "metadata": {
    "id": "oUAPwL8M-X8x"
   },
   "source": [
    "Напишите функцию, которая вычисляет оптимальные веса согласно [теореме Гаусса-Маркова](https://ru.wikipedia.org/wiki/Теорема_Гаусса_—_Маркова):\n",
    "\n",
    "$$\\vec{w} = (X^TX)^{-1}X^{T} \\vec{y}, $$\n",
    "\n",
    "где $\\vec{w}$ - вектор весов, который вам нужно вычислить,\n",
    "\n",
    "$X$ - матрица признаков размером $(n\\times m)$,\n",
    "\n",
    "$\\vec{y}$ - вектор ответов."
   ]
  },
  {
   "cell_type": "code",
   "execution_count": null,
   "metadata": {
    "id": "i7Tz5a3-YnTa"
   },
   "outputs": [],
   "source": [
    "def gauss_markov_decision(X, y):\n",
    "    # Ваш код\n",
    "    pass"
   ]
  },
  {
   "cell_type": "code",
   "execution_count": null,
   "metadata": {
    "colab": {
     "base_uri": "https://localhost:8080/"
    },
    "id": "VrHV3w6dc0lG",
    "outputId": "e9d7e9f8-e8d0-46d4-c448-f086b4c3bd09"
   },
   "outputs": [],
   "source": [
    "# Проверка\n",
    "import pandas as pd\n",
    "from sklearn.datasets import load_boston\n",
    "\n",
    "data_url = \"http://lib.stat.cmu.edu/datasets/boston\"\n",
    "raw_df = pd.read_csv(data_url, sep=\"\\s+\", skiprows=22, header=None)\n",
    "X = np.hstack([raw_df.values[::2, :], raw_df.values[1::2, :2]])\n",
    "y = np.array(raw_df.values[1::2, 2])\n",
    "\n",
    "true_gauss_markov_decision = np.array([-9.28965170e-02, 4.87149552e-02, -4.05997958e-03, 2.85399882e+00,\n",
    "                                       -2.86843637e+00, 5.92814778e+00, -7.26933458e-03, -9.68514157e-01,\n",
    "                                       1.71151128e-01, -9.39621540e-03, -3.92190926e-01, 1.49056102e-02,\n",
    "                                       -4.16304471e-01])\n",
    "\n",
    "assert np.allclose(gauss_markov_decision(X, y), true_gauss_markov_decision), \"Что-то не так\"\n",
    "print('Всё ОК!')"
   ]
  },
  {
   "cell_type": "code",
   "execution_count": null,
   "metadata": {},
   "outputs": [],
   "source": []
  }
 ],
 "metadata": {
  "colab": {
   "provenance": []
  },
  "kernelspec": {
   "display_name": "Python 3 (ipykernel)",
   "language": "python",
   "name": "python3"
  },
  "language_info": {
   "codemirror_mode": {
    "name": "ipython",
    "version": 3
   },
   "file_extension": ".py",
   "mimetype": "text/x-python",
   "name": "python",
   "nbconvert_exporter": "python",
   "pygments_lexer": "ipython3",
   "version": "3.8.13"
  }
 },
 "nbformat": 4,
 "nbformat_minor": 1
}
